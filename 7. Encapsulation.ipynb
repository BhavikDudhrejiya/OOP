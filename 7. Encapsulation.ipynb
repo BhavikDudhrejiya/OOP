{
 "cells": [
  {
   "cell_type": "markdown",
   "id": "24292b90",
   "metadata": {},
   "source": [
    "Encapsulation mean hidding the code structure outside the class\n",
    "1. name = Public variable\n",
    "2. _name = Protected variable\n",
    "3. __name = Private variable\n",
    "\n",
    "Protected members (in C++ and JAVA) are those members of the class that cannot be accessed outside the class but can be accessed from within the class and its subclasses.\n",
    "Private members are similar to protected members, the difference is that the class members declared private should neither be accessed outside the class nor by any base class."
   ]
  },
  {
   "cell_type": "code",
   "execution_count": 25,
   "id": "a4e90f53",
   "metadata": {},
   "outputs": [
    {
     "name": "stdout",
     "output_type": "stream",
     "text": [
      "Mobile\n",
      "100\n",
      "50\n",
      "\n",
      "\n",
      "Smart Phone\n",
      "200\n",
      "50\n"
     ]
    }
   ],
   "source": [
    "#CREATING CLASS\n",
    "class Gift():\n",
    "    \n",
    "    #CREATING INIT METHOD AND INSTANCE VARIABLES\n",
    "    def __init__(self):\n",
    "        self.product = 'Mobile'#--------------------------->publice variable\n",
    "        self._price = 100 #-------------------------------->protected variable\n",
    "        self.__discounted_price = 50 #-------------------->private variable\n",
    "    \n",
    "    #CREATING INSTANCE METHOD\n",
    "    def item(self):\n",
    "        return self.product\n",
    "    \n",
    "    #CREATING INSTANCE METHOD\n",
    "    def amount(self):\n",
    "        return self._price\n",
    "    \n",
    "    #CREATING INSTANCE METHOD\n",
    "    def discount(self):\n",
    "        return self.__discounted_price\n",
    "    \n",
    "#CREATING AN OBJECT WITH RESPECT TO CLASS\n",
    "total = Gift()\n",
    "\n",
    "#OUTPUT THROUGH AN OBJECT AND INSTANCE VARIABLE\n",
    "print(total.item())\n",
    "print(total.amount())\n",
    "print(total.discount())\n",
    "print('\\n')\n",
    "\n",
    "#CHANGING THE VALUE OF INSTANCE VARIABLE USING OBJECT\n",
    "total.product = 'Smart Phone'\n",
    "total._price = 200\n",
    "total.__discounted_price = 100\n",
    "\n",
    "#OUTPUT THROUGH AN OBJECT AND INSTANCE VARIABLE\n",
    "print(total.item())\n",
    "print(total.amount())\n",
    "print(total.discount())"
   ]
  }
 ],
 "metadata": {
  "kernelspec": {
   "display_name": "Python 3",
   "language": "python",
   "name": "python3"
  },
  "language_info": {
   "codemirror_mode": {
    "name": "ipython",
    "version": 3
   },
   "file_extension": ".py",
   "mimetype": "text/x-python",
   "name": "python",
   "nbconvert_exporter": "python",
   "pygments_lexer": "ipython3",
   "version": "3.9.5"
  },
  "toc": {
   "base_numbering": 1,
   "nav_menu": {},
   "number_sections": true,
   "sideBar": true,
   "skip_h1_title": false,
   "title_cell": "Table of Contents",
   "title_sidebar": "Contents",
   "toc_cell": false,
   "toc_position": {},
   "toc_section_display": true,
   "toc_window_display": false
  }
 },
 "nbformat": 4,
 "nbformat_minor": 5
}
