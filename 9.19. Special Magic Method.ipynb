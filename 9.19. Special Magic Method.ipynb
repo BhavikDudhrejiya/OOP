{
 "cells": [
  {
   "cell_type": "markdown",
   "id": "5f7e067c",
   "metadata": {},
   "source": [
    "# repr = representator"
   ]
  },
  {
   "cell_type": "code",
   "execution_count": 2,
   "id": "1f23d60b",
   "metadata": {},
   "outputs": [
    {
     "name": "stdout",
     "output_type": "stream",
     "text": [
      "Nokia 1000\n"
     ]
    }
   ],
   "source": [
    "class Phone:\n",
    "    def __init__(self, brand, model_name, price):\n",
    "        self.brand = brand\n",
    "        self.model_name = model_name\n",
    "        self.price = price\n",
    "        \n",
    "    def phone_name(self):\n",
    "        return f'{self.brand} {self.model_name}'\n",
    "    \n",
    "    def __repr__(self):\n",
    "        return f'{self.brand} {self.price}'\n",
    "\n",
    "p1 = Phone('Nokia', '1100', 1000)\n",
    "\n",
    "print(p1)"
   ]
  },
  {
   "cell_type": "markdown",
   "id": "69604368",
   "metadata": {},
   "source": [
    "# str "
   ]
  },
  {
   "cell_type": "code",
   "execution_count": 3,
   "id": "929bec95",
   "metadata": {},
   "outputs": [
    {
     "name": "stdout",
     "output_type": "stream",
     "text": [
      "Nokia 1000\n"
     ]
    }
   ],
   "source": [
    "class Phone:\n",
    "    def __init__(self, brand, model_name, price):\n",
    "        self.brand = brand\n",
    "        self.model_name = model_name\n",
    "        self.price = price\n",
    "        \n",
    "    def phone_name(self):\n",
    "        return f'{self.brand} {self.model_name}'\n",
    "    \n",
    "    def __str__(self):\n",
    "        return f'{self.brand} {self.price}'\n",
    "\n",
    "p1 = Phone('Nokia', '1100', 1000)\n",
    "\n",
    "print(p1)"
   ]
  },
  {
   "cell_type": "code",
   "execution_count": 5,
   "id": "e745c389",
   "metadata": {},
   "outputs": [
    {
     "name": "stdout",
     "output_type": "stream",
     "text": [
      "Nokia 1100\n"
     ]
    }
   ],
   "source": [
    "class Phone:\n",
    "    def __init__(self, brand, model_name, price):\n",
    "        self.brand = brand\n",
    "        self.model_name = model_name\n",
    "        self.price = price\n",
    "        \n",
    "    def phone_name(self):\n",
    "        return f'{self.brand} {self.model_name}'\n",
    "       \n",
    "    def __str__(self):\n",
    "        return f'{self.brand} {self.model_name}'\n",
    "    \n",
    "    def __repr__(self):\n",
    "        return f'{self.brand} {self.price}'\n",
    "\n",
    "p1 = Phone('Nokia', '1100', 1000)\n",
    "\n",
    "print(p1)"
   ]
  },
  {
   "cell_type": "code",
   "execution_count": 7,
   "id": "e44477b5",
   "metadata": {},
   "outputs": [
    {
     "name": "stdout",
     "output_type": "stream",
     "text": [
      "Nokia 1100\n",
      "Nokia 1100 1000\n"
     ]
    }
   ],
   "source": [
    "class Phone:\n",
    "    def __init__(self, brand, model_name, price):\n",
    "        self.brand = brand\n",
    "        self.model_name = model_name\n",
    "        self.price = price\n",
    "        \n",
    "    def phone_name(self):\n",
    "        return f'{self.brand} {self.model_name}'\n",
    "       \n",
    "    def __str__(self):\n",
    "        return f'{self.brand} {self.model_name}'\n",
    "    \n",
    "    def __repr__(self):\n",
    "        return f'{self.brand} {self.model_name} {self.price}'\n",
    "\n",
    "p1 = Phone('Nokia', '1100', 1000)\n",
    "\n",
    "print(str(p1))\n",
    "print(repr(p1))"
   ]
  },
  {
   "cell_type": "code",
   "execution_count": null,
   "id": "0d9c7d8c",
   "metadata": {},
   "outputs": [],
   "source": []
  }
 ],
 "metadata": {
  "kernelspec": {
   "display_name": "Python 3",
   "language": "python",
   "name": "python3"
  },
  "language_info": {
   "codemirror_mode": {
    "name": "ipython",
    "version": 3
   },
   "file_extension": ".py",
   "mimetype": "text/x-python",
   "name": "python",
   "nbconvert_exporter": "python",
   "pygments_lexer": "ipython3",
   "version": "3.9.5"
  },
  "toc": {
   "base_numbering": 1,
   "nav_menu": {},
   "number_sections": true,
   "sideBar": true,
   "skip_h1_title": false,
   "title_cell": "Table of Contents",
   "title_sidebar": "Contents",
   "toc_cell": false,
   "toc_position": {},
   "toc_section_display": true,
   "toc_window_display": false
  }
 },
 "nbformat": 4,
 "nbformat_minor": 5
}
