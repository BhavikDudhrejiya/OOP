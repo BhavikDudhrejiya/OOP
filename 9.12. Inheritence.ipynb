{
 "cells": [
  {
   "cell_type": "markdown",
   "id": "7ee793a9",
   "metadata": {},
   "source": [
    "# __init"
   ]
  },
  {
   "cell_type": "code",
   "execution_count": 10,
   "id": "97d4c1aa",
   "metadata": {},
   "outputs": [
    {
     "name": "stdout",
     "output_type": "stream",
     "text": [
      "Nokia 1100 1000\n",
      "Redmi Note 10 Pro Max 18999 6GB 128GB 108MP\n"
     ]
    }
   ],
   "source": [
    "class Phone:\n",
    "    def __init__(self, brand, model_name, price):\n",
    "        self.brand = brand\n",
    "        self.model_name = model_name\n",
    "        self.price = price\n",
    "\n",
    "class Smart_Phone_Class(Phone):\n",
    "    def __init__(self, brand, model_name, price, ram, internal_memory, rear_camera):\n",
    "        Phone.__init__(self, brand, model_name, price)\n",
    "        self.ram = ram\n",
    "        self.internal_memory = internal_memory\n",
    "        self.rear_camera = rear_camera\n",
    "        \n",
    "\n",
    "p1 = Phone('Nokia', '1100', 1000)\n",
    "p2 = Smart_Phone_Class('Redmi Note', '10 Pro Max', 18999, '6GB', '128GB', '108MP')\n",
    "print(p1.brand, p1.model_name, p1.price)\n",
    "print(p2.brand, p2.model_name, p2.price, p2.ram, p2.internal_memory, p2.rear_camera)"
   ]
  },
  {
   "cell_type": "markdown",
   "id": "6a81d94f",
   "metadata": {},
   "source": [
    "# Super"
   ]
  },
  {
   "cell_type": "code",
   "execution_count": 13,
   "id": "ce7338fe",
   "metadata": {},
   "outputs": [
    {
     "name": "stdout",
     "output_type": "stream",
     "text": [
      "Nokia 1100 1000\n",
      "Redmi Note 10 Pro Max 18999 6GB 128GB 108MP\n"
     ]
    }
   ],
   "source": [
    "class Phone:\n",
    "    def __init__(self, brand, model_name, price):\n",
    "        self.brand = brand\n",
    "        self.model_name = model_name\n",
    "        self.price = price\n",
    "\n",
    "class Smart_Phone_Class(Phone):\n",
    "    def __init__(self, brand, model_name, price, ram, internal_memory, rear_camera):\n",
    "        super().__init__(brand, model_name, price)\n",
    "        self.ram = ram\n",
    "        self.internal_memory = internal_memory\n",
    "        self.rear_camera = rear_camera\n",
    "        \n",
    "\n",
    "p1 = Phone('Nokia', '1100', 1000)\n",
    "p2 = Smart_Phone_Class('Redmi Note', '10 Pro Max', 18999, '6GB', '128GB', '108MP')\n",
    "print(p1.brand, p1.model_name, p1.price)\n",
    "print(p2.brand, p2.model_name, p2.price, p2.ram, p2.internal_memory, p2.rear_camera)"
   ]
  }
 ],
 "metadata": {
  "kernelspec": {
   "display_name": "Python 3",
   "language": "python",
   "name": "python3"
  },
  "language_info": {
   "codemirror_mode": {
    "name": "ipython",
    "version": 3
   },
   "file_extension": ".py",
   "mimetype": "text/x-python",
   "name": "python",
   "nbconvert_exporter": "python",
   "pygments_lexer": "ipython3",
   "version": "3.9.5"
  },
  "toc": {
   "base_numbering": 1,
   "nav_menu": {},
   "number_sections": true,
   "sideBar": true,
   "skip_h1_title": false,
   "title_cell": "Table of Contents",
   "title_sidebar": "Contents",
   "toc_cell": false,
   "toc_position": {},
   "toc_section_display": true,
   "toc_window_display": false
  }
 },
 "nbformat": 4,
 "nbformat_minor": 5
}
