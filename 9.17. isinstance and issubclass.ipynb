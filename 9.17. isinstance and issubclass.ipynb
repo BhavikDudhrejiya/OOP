{
 "cells": [
  {
   "cell_type": "markdown",
   "id": "27c919b8",
   "metadata": {},
   "source": [
    "# isinstance"
   ]
  },
  {
   "cell_type": "code",
   "execution_count": 1,
   "id": "4d8f7035",
   "metadata": {},
   "outputs": [],
   "source": [
    "class Phone:\n",
    "    def __init__(self, brand, model_name, price):\n",
    "        self.brand = brand\n",
    "        self.model_name = model_name\n",
    "        self.price = price\n",
    "\n",
    "class Smart_Phone(Phone):\n",
    "    def __init__(self, brand, model_name, price, ram, internal_memory, rear_camera):\n",
    "        super().__init__(brand, model_name, price)\n",
    "        self.ram = ram\n",
    "        self.internal_memory = internal_memory\n",
    "        self.rear_camera = rear_camera\n",
    "        \n",
    "class Flagship_Phone(Smart_Phone):\n",
    "    def __init__(self, brand, model_name, price, ram, internal_memory, rear_camera, front_camera):\n",
    "        super().__init__(brand, model_name, price, ram, internal_memory, rear_camera)\n",
    "        self.front_camera = front_camera\n",
    "        \n",
    "p1 = Phone('Nokia', '1100', 1000)\n",
    "p2 = Smart_Phone('Redmi Note', '10 Pro Max', 18999, '6GB', '128GB', '108MP')\n",
    "p3 = Smart_Phone('Realmi', 'Narzo 30 Pro', 15999, '6GB', '64GB', '48MP')\n",
    "p4 = Flagship_Phone('Mi', '10i 5G', 21999, '6GB', '64GB','108MP','48MP')"
   ]
  },
  {
   "cell_type": "code",
   "execution_count": 7,
   "id": "4c7c29af",
   "metadata": {},
   "outputs": [
    {
     "name": "stdout",
     "output_type": "stream",
     "text": [
      "True\n",
      "False\n",
      "False\n",
      "False\n"
     ]
    }
   ],
   "source": [
    "print(isinstance(p4, Flagship_Phone))\n",
    "print(isinstance(p3, Flagship_Phone))\n",
    "print(isinstance(p3, Flagship_Phone))\n",
    "print(isinstance(p1, Flagship_Phone))"
   ]
  },
  {
   "cell_type": "code",
   "execution_count": 9,
   "id": "c7d4ad4e",
   "metadata": {},
   "outputs": [
    {
     "name": "stdout",
     "output_type": "stream",
     "text": [
      "True\n",
      "True\n",
      "True\n",
      "False\n"
     ]
    }
   ],
   "source": [
    "print(isinstance(p4, Smart_Phone))\n",
    "print(isinstance(p3, Smart_Phone))\n",
    "print(isinstance(p3, Smart_Phone))\n",
    "print(isinstance(p1, Smart_Phone))"
   ]
  },
  {
   "cell_type": "code",
   "execution_count": 10,
   "id": "9c9a85f7",
   "metadata": {},
   "outputs": [
    {
     "name": "stdout",
     "output_type": "stream",
     "text": [
      "True\n",
      "True\n",
      "True\n",
      "True\n"
     ]
    }
   ],
   "source": [
    "print(isinstance(p4, Phone))\n",
    "print(isinstance(p3, Phone))\n",
    "print(isinstance(p3, Phone))\n",
    "print(isinstance(p1, Phone))"
   ]
  },
  {
   "cell_type": "markdown",
   "id": "c34c4aad",
   "metadata": {},
   "source": [
    "# issubclass"
   ]
  },
  {
   "cell_type": "code",
   "execution_count": 13,
   "id": "bedced39",
   "metadata": {},
   "outputs": [
    {
     "name": "stdout",
     "output_type": "stream",
     "text": [
      "True\n",
      "True\n",
      "True\n"
     ]
    }
   ],
   "source": [
    "print(issubclass(Flagship_Phone, Flagship_Phone))\n",
    "print(issubclass(Flagship_Phone, Smart_Phone))\n",
    "print(issubclass(Flagship_Phone, Phone))"
   ]
  },
  {
   "cell_type": "code",
   "execution_count": 14,
   "id": "774e9879",
   "metadata": {},
   "outputs": [
    {
     "name": "stdout",
     "output_type": "stream",
     "text": [
      "False\n",
      "True\n",
      "True\n"
     ]
    }
   ],
   "source": [
    "print(issubclass(Smart_Phone, Flagship_Phone))\n",
    "print(issubclass(Smart_Phone, Smart_Phone))\n",
    "print(issubclass(Smart_Phone, Phone))"
   ]
  },
  {
   "cell_type": "code",
   "execution_count": 15,
   "id": "4548348e",
   "metadata": {},
   "outputs": [
    {
     "name": "stdout",
     "output_type": "stream",
     "text": [
      "False\n",
      "False\n",
      "True\n"
     ]
    }
   ],
   "source": [
    "print(issubclass(Phone, Flagship_Phone))\n",
    "print(issubclass(Phone, Smart_Phone))\n",
    "print(issubclass(Phone, Phone))"
   ]
  }
 ],
 "metadata": {
  "kernelspec": {
   "display_name": "Python 3",
   "language": "python",
   "name": "python3"
  },
  "language_info": {
   "codemirror_mode": {
    "name": "ipython",
    "version": 3
   },
   "file_extension": ".py",
   "mimetype": "text/x-python",
   "name": "python",
   "nbconvert_exporter": "python",
   "pygments_lexer": "ipython3",
   "version": "3.9.5"
  },
  "toc": {
   "base_numbering": 1,
   "nav_menu": {},
   "number_sections": true,
   "sideBar": true,
   "skip_h1_title": false,
   "title_cell": "Table of Contents",
   "title_sidebar": "Contents",
   "toc_cell": false,
   "toc_position": {},
   "toc_section_display": true,
   "toc_window_display": false
  }
 },
 "nbformat": 4,
 "nbformat_minor": 5
}
