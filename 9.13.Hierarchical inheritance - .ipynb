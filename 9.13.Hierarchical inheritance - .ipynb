{
 "cells": [
  {
   "cell_type": "code",
   "execution_count": 5,
   "id": "d8e83ed9",
   "metadata": {},
   "outputs": [
    {
     "name": "stdout",
     "output_type": "stream",
     "text": [
      "Nokia 1100 1000\n",
      "Redmi Note 10 Pro Max 18999 6GB 128GB 108MP\n",
      "Realmi Narzo 30 Pro 15999 6GB 128GB 48MP\n"
     ]
    }
   ],
   "source": [
    "class Phone:\n",
    "    def __init__(self, brand, model_name, price):\n",
    "        self.brand = brand\n",
    "        self.model_name = model_name\n",
    "        self.price = price\n",
    "\n",
    "class Smart_Phone1(Phone):\n",
    "    def __init__(self, brand, model_name, price, ram, internal_memory, rear_camera):\n",
    "        super().__init__(brand, model_name, price)\n",
    "        self.ram = ram\n",
    "        self.internal_memory = internal_memory\n",
    "        self.rear_camera = rear_camera\n",
    "        \n",
    "class Smart_Phone2(Phone):\n",
    "    def __init__(self, brand, model_name, price, ram, internal_memory, rear_camera):\n",
    "        super().__init__(brand, model_name, price)\n",
    "        self.ram = ram\n",
    "        self.internal_memory = internal_memory\n",
    "        self.rear_camera = rear_camera\n",
    "        \n",
    "p1 = Phone('Nokia', '1100', 1000)\n",
    "p2 = Smart_Phone1('Redmi Note', '10 Pro Max', 18999, '6GB', '128GB', '108MP')\n",
    "p3 = Smart_Phone1('Realmi', 'Narzo 30 Pro', 15999, '6GB', '64GB', '48MP')\n",
    "\n",
    "print(p1.brand, p1.model_name, p1.price)\n",
    "print(p2.brand, p2.model_name, p2.price, p2.ram, p2.internal_memory, p2.rear_camera)\n",
    "print(p3.brand, p3.model_name, p3.price, p3.ram, p2.internal_memory, p3.rear_camera)"
   ]
  }
 ],
 "metadata": {
  "kernelspec": {
   "display_name": "Python 3",
   "language": "python",
   "name": "python3"
  },
  "language_info": {
   "codemirror_mode": {
    "name": "ipython",
    "version": 3
   },
   "file_extension": ".py",
   "mimetype": "text/x-python",
   "name": "python",
   "nbconvert_exporter": "python",
   "pygments_lexer": "ipython3",
   "version": "3.9.5"
  },
  "toc": {
   "base_numbering": 1,
   "nav_menu": {},
   "number_sections": true,
   "sideBar": true,
   "skip_h1_title": false,
   "title_cell": "Table of Contents",
   "title_sidebar": "Contents",
   "toc_cell": false,
   "toc_position": {},
   "toc_section_display": true,
   "toc_window_display": false
  }
 },
 "nbformat": 4,
 "nbformat_minor": 5
}
