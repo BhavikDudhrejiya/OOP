{
 "cells": [
  {
   "cell_type": "code",
   "execution_count": null,
   "id": "525372f9",
   "metadata": {},
   "outputs": [],
   "source": [
    "#CREATING CLASS\n",
    "class Phone:\n",
    "    \n",
    "    #CREATING INIT METHOD AND CREATING INSTANCE VARIABLE\n",
    "    def __init__(self, brand, model_name, price):\n",
    "        self.brand = brand\n",
    "        self.model_name = model_name\n",
    "        self.price = price\n",
    "        \n",
    "    #CREATING INSTANCE METHOD\n",
    "    @property\n",
    "    def complete_specification(self):\n",
    "            return f'Name of mobile is {self.brand} {self.model_name} and price is Rs.{self.price}.00'\n",
    "        \n",
    "    #CREATING GETTER\n",
    "    @property\n",
    "    def price(self):\n",
    "        return self.price\n",
    "    \n",
    "    #CREATING SETTER\n",
    "    @price.setter\n",
    "    def price(self, new_price):\n",
    "        self.price = max(new_price, 0)\n",
    "        \n",
    "#CREATING AN OBJECT WITH RESPECT TO CLASS\n",
    "phone1 = Phone('Nokia', '1100', 1000)\n",
    "\n",
    "#PRINTING BRAND NAME, MODEL NAME AND PRICE\n",
    "print(phone1.brand, phone1.model_name, phone1.price)\n",
    "print(phone1.complete_specification)\n",
    "print('\\n')\n",
    "\n",
    "#DUE BYMISTAKE IF CHANGE PRICE IN NEGATIVE FORM THEN IT SHOULD NOT BE CONSIDERED AS NEGATIVE\n",
    "phone1.price = -1000\n",
    "\n",
    "#OUTPUT\n",
    "print(phone1.brand, phone1.model_name, phone1.price)\n",
    "print(phone1.complete_specification)"
   ]
  },
  {
   "cell_type": "code",
   "execution_count": null,
   "id": "101a8f4c",
   "metadata": {},
   "outputs": [],
   "source": []
  }
 ],
 "metadata": {
  "kernelspec": {
   "display_name": "Python 3",
   "language": "python",
   "name": "python3"
  },
  "language_info": {
   "codemirror_mode": {
    "name": "ipython",
    "version": 3
   },
   "file_extension": ".py",
   "mimetype": "text/x-python",
   "name": "python",
   "nbconvert_exporter": "python",
   "pygments_lexer": "ipython3",
   "version": "3.9.5"
  },
  "toc": {
   "base_numbering": 1,
   "nav_menu": {},
   "number_sections": true,
   "sideBar": true,
   "skip_h1_title": false,
   "title_cell": "Table of Contents",
   "title_sidebar": "Contents",
   "toc_cell": false,
   "toc_position": {},
   "toc_section_display": true,
   "toc_window_display": false
  }
 },
 "nbformat": 4,
 "nbformat_minor": 5
}
