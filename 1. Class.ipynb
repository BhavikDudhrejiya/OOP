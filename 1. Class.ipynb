{
 "cells": [
  {
   "cell_type": "markdown",
   "id": "374144e8",
   "metadata": {},
   "source": [
    "Class: \n",
    "- The class can be defined as a collection of objects or blueprint.\n",
    "- It is a logical entity that has some specific attributes and methods.\n",
    "\n",
    "Constructor:\n",
    "- A constructor is a special type of method (function) which is used to initialize the instance members of the class.\n",
    "- Constructor have two type Parameterized Constructor & Non-parameterized Constructor.\n",
    "- We can create a constructor using __init__.\n",
    "\n",
    "Object:\n",
    "- The object is an entity that has state and behavior.\n",
    "- It may be any real-world object like the mouse, keyboard, chair, table, pen, etc.\n",
    "\n",
    "Method:\n",
    "- The method is a function that is associated with an object. \n",
    "- In Python, a method is not unique to class instances. \n",
    "- Any object type can have methods."
   ]
  },
  {
   "cell_type": "code",
   "execution_count": 2,
   "id": "f75fa19c",
   "metadata": {},
   "outputs": [
    {
     "name": "stdout",
     "output_type": "stream",
     "text": [
      "Vijay Chauhan 25\n",
      "Tarak Mehta 60\n"
     ]
    }
   ],
   "source": [
    "#CREATING CLASS#####################################################\n",
    "class Person:\n",
    "    \n",
    "    #CREATING INIT METHOD AND CREATING INSTANCE VARIABLES\n",
    "    def __init__(self, first_name, last_name, age):\n",
    "\n",
    "        self.first_name = first_name\n",
    "        self.last_name = last_name\n",
    "        self.age = age\n",
    "        \n",
    "#CREATING TWO OBJECT#####################################################\n",
    "person1 = Person('Vijay', 'Chauhan', 25)\n",
    "person2 = Person('Tarak', 'Mehta', 60)\n",
    "\n",
    "#OUT PUT#################################################################\n",
    "print(person1.first_name, person1.last_name, person1.age)\n",
    "print(person2.first_name, person2.last_name, person2.age)"
   ]
  }
 ],
 "metadata": {
  "kernelspec": {
   "display_name": "Python 3",
   "language": "python",
   "name": "python3"
  },
  "language_info": {
   "codemirror_mode": {
    "name": "ipython",
    "version": 3
   },
   "file_extension": ".py",
   "mimetype": "text/x-python",
   "name": "python",
   "nbconvert_exporter": "python",
   "pygments_lexer": "ipython3",
   "version": "3.9.5"
  },
  "toc": {
   "base_numbering": 1,
   "nav_menu": {},
   "number_sections": true,
   "sideBar": true,
   "skip_h1_title": false,
   "title_cell": "Table of Contents",
   "title_sidebar": "Contents",
   "toc_cell": false,
   "toc_position": {},
   "toc_section_display": true,
   "toc_window_display": false
  }
 },
 "nbformat": 4,
 "nbformat_minor": 5
}
