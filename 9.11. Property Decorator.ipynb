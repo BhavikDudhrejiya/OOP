{
 "cells": [
  {
   "cell_type": "code",
   "execution_count": 7,
   "id": "fc5475c7",
   "metadata": {},
   "outputs": [
    {
     "name": "stdout",
     "output_type": "stream",
     "text": [
      "Nokia 1100 -5000\n",
      "Name of mobile is Nokia 1100 and price is Rs.00.00\n",
      "0\n"
     ]
    }
   ],
   "source": [
    "#CREATING CLASS\n",
    "class Phone:\n",
    "    \n",
    "    #CREATING INIT METHOD AND CREATING INSTANCE VARIABLE\n",
    "    def __init__(self, brand, model_name, price):\n",
    "        self.brand = brand\n",
    "        self.model_name = model_name\n",
    "        self.price = price\n",
    "        \n",
    "    #CREATING INSTANCE METHOD\n",
    "    @property\n",
    "    def complete_specification(self):\n",
    "        if self.price>0:\n",
    "            return f'Name of mobile is {self.brand} {self.model_name} and price is Rs.{self.price}.00'\n",
    "        else:\n",
    "            return f'Name of mobile is {self.brand} {self.model_name} and price is Rs.00.00'\n",
    "    \n",
    "    #CREATING INSTANCE METHOD\n",
    "    @property\n",
    "    def amount(self):\n",
    "        if self.price >0:\n",
    "            return self.price\n",
    "        else:\n",
    "            return 0\n",
    "        \n",
    "#CREATING AN OBJECT WITH RESPECT TO CLASS\n",
    "phone1 = Phone('Nokia', '1100', 1000)\n",
    "phone1.price = -5000\n",
    "\n",
    "#PRINTING BRAND NAME, MODEL NAME AND PRICE\n",
    "print(phone1.brand, phone1.model_name, phone1.price)\n",
    "print(phone1.complete_specification)\n",
    "print(phone1.amount)"
   ]
  },
  {
   "cell_type": "code",
   "execution_count": null,
   "id": "71d3fc64",
   "metadata": {},
   "outputs": [],
   "source": []
  }
 ],
 "metadata": {
  "kernelspec": {
   "display_name": "Python 3",
   "language": "python",
   "name": "python3"
  },
  "language_info": {
   "codemirror_mode": {
    "name": "ipython",
    "version": 3
   },
   "file_extension": ".py",
   "mimetype": "text/x-python",
   "name": "python",
   "nbconvert_exporter": "python",
   "pygments_lexer": "ipython3",
   "version": "3.9.5"
  },
  "toc": {
   "base_numbering": 1,
   "nav_menu": {},
   "number_sections": true,
   "sideBar": true,
   "skip_h1_title": false,
   "title_cell": "Table of Contents",
   "title_sidebar": "Contents",
   "toc_cell": false,
   "toc_position": {},
   "toc_section_display": true,
   "toc_window_display": false
  }
 },
 "nbformat": 4,
 "nbformat_minor": 5
}
