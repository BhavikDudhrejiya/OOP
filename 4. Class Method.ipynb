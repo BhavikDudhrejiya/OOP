{
 "cells": [
  {
   "cell_type": "code",
   "execution_count": 12,
   "id": "baf0407d",
   "metadata": {},
   "outputs": [
    {
     "name": "stdout",
     "output_type": "stream",
     "text": [
      "TAPU GADA 15\n",
      "JETHALAL GADA 40\n",
      "\n",
      "\n",
      "First Name: TAPU Last Name: GADA Age: 15\n",
      "First Name: JETHALAL Last Name: GADA Age: 40\n",
      "\n",
      "\n",
      "2\n",
      "\n",
      "\n",
      "Total Person in Gada family have 2\n",
      "\n",
      "\n",
      "Total Person in Gada family have 2\n"
     ]
    }
   ],
   "source": [
    "#CREATING CLASS#####################################################\n",
    "class Person:\n",
    "    \n",
    "    #CREATING CLASS VARIABLE\n",
    "    count_of_family_member = 0\n",
    "    \n",
    "    #CREATING INIT METHOD AND CREATING INSTANCE VARIABLES\n",
    "    def __init__(self, first_name, last_name, age):\n",
    "        self.first_name = first_name\n",
    "        self.last_name = last_name\n",
    "        self.age = age\n",
    "        Person.count_of_family_member+= 1\n",
    "        \n",
    "    #CREATING INSTANCE METHOD\n",
    "    def full_name(self):\n",
    "        return f'First Name: {self.first_name} Last Name: {self.last_name} Age: {self.age}'\n",
    "    \n",
    "    #CREATING CLASS METHOD\n",
    "    @classmethod\n",
    "    def count_members(cls):\n",
    "        return f'Total {Person.__name__} in Gada family have {cls.count_of_family_member}'\n",
    "        \n",
    "#CREATING TWO OBJECT#####################################################\n",
    "person1 = Person('TAPU', 'GADA', 15)\n",
    "person2 = Person('JETHALAL', 'GADA', 40)\n",
    "\n",
    "#OUT PUT THROUGH OBJECT & CLASS###########################################\n",
    "print(person1.first_name, person1.last_name, person1.age)\n",
    "print(person2.first_name, person2.last_name, person2.age)\n",
    "print('\\n')\n",
    "\n",
    "#OUT PUT THROUGH OBJECT & INSTANCE METHOD#################################\n",
    "print(person1.full_name())\n",
    "print(person2.full_name())\n",
    "print('\\n')\n",
    "\n",
    "#OUT PUT THROUGH CLASS & CLASS VARIABLE###################################\n",
    "print(Person.count_of_family_member)\n",
    "print('\\n')\n",
    "\n",
    "#OUT PUT THROUGH CLASS & CLASS METHOD#####################################\n",
    "print(Person.count_members())\n",
    "print('\\n')\n",
    "\n",
    "#OUT PUT THROUGH OBJECT & CLASS METHOD#####################################\n",
    "print(person1.count_members())"
   ]
  },
  {
   "cell_type": "code",
   "execution_count": null,
   "id": "dd002738",
   "metadata": {},
   "outputs": [],
   "source": []
  }
 ],
 "metadata": {
  "kernelspec": {
   "display_name": "Python 3",
   "language": "python",
   "name": "python3"
  },
  "language_info": {
   "codemirror_mode": {
    "name": "ipython",
    "version": 3
   },
   "file_extension": ".py",
   "mimetype": "text/x-python",
   "name": "python",
   "nbconvert_exporter": "python",
   "pygments_lexer": "ipython3",
   "version": "3.9.5"
  },
  "toc": {
   "base_numbering": 1,
   "nav_menu": {},
   "number_sections": true,
   "sideBar": true,
   "skip_h1_title": false,
   "title_cell": "Table of Contents",
   "title_sidebar": "Contents",
   "toc_cell": false,
   "toc_position": {},
   "toc_section_display": true,
   "toc_window_display": false
  }
 },
 "nbformat": 4,
 "nbformat_minor": 5
}
