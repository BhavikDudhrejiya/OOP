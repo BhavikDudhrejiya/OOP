{
  "nbformat": 4,
  "nbformat_minor": 0,
  "metadata": {
    "colab": {
      "provenance": [],
      "authorship_tag": "ABX9TyNPJDNuf3SJ2V7mHhn0vu7T",
      "include_colab_link": true
    },
    "kernelspec": {
      "name": "python3",
      "display_name": "Python 3"
    },
    "language_info": {
      "name": "python"
    }
  },
  "cells": [
    {
      "cell_type": "markdown",
      "metadata": {
        "id": "view-in-github",
        "colab_type": "text"
      },
      "source": [
        "<a href=\"https://colab.research.google.com/github/BhavikDudhrejiya/OOP/blob/main/Abstraction.ipynb\" target=\"_parent\"><img src=\"https://colab.research.google.com/assets/colab-badge.svg\" alt=\"Open In Colab\"/></a>"
      ]
    },
    {
      "cell_type": "markdown",
      "source": [
        "- Abstraction mean hidden\n",
        "- There are A class and B class. If B class want to become a child class of A class and inherit it's variables and method then B class should implements some methods which is defined by class A.\n",
        "\n"
      ],
      "metadata": {
        "id": "_fc2ioR6A9K4"
      }
    },
    {
      "cell_type": "code",
      "source": [
        "from abc import ABC, abstractmethod"
      ],
      "metadata": {
        "id": "QTaydKYflyKP"
      },
      "execution_count": 2,
      "outputs": []
    },
    {
      "cell_type": "code",
      "source": [
        "#Parent Class\n",
        "class BankApp(ABC):\n",
        "  def database(self):\n",
        "    print('connected to database')\n",
        "\n",
        "  @abstractmethod\n",
        "  def security(self):\n",
        "    pass\n",
        "\n",
        "#Child Class\n",
        "class MobileApp(BankApp):\n",
        "  def mobile_login(self):\n",
        "    print('login into mobile')"
      ],
      "metadata": {
        "id": "BaLg_-lHX0gj"
      },
      "execution_count": 8,
      "outputs": []
    },
    {
      "cell_type": "code",
      "source": [
        "m = MobileApp()"
      ],
      "metadata": {
        "colab": {
          "base_uri": "https://localhost:8080/",
          "height": 165
        },
        "id": "c12crUX1YTom",
        "outputId": "97c397df-ae54-46cb-a760-731f7af483df"
      },
      "execution_count": 9,
      "outputs": [
        {
          "output_type": "error",
          "ename": "TypeError",
          "evalue": "ignored",
          "traceback": [
            "\u001b[0;31m---------------------------------------------------------------------------\u001b[0m",
            "\u001b[0;31mTypeError\u001b[0m                                 Traceback (most recent call last)",
            "\u001b[0;32m<ipython-input-9-573c60e1553e>\u001b[0m in \u001b[0;36m<module>\u001b[0;34m\u001b[0m\n\u001b[0;32m----> 1\u001b[0;31m \u001b[0mm\u001b[0m \u001b[0;34m=\u001b[0m \u001b[0mMobileApp\u001b[0m\u001b[0;34m(\u001b[0m\u001b[0;34m)\u001b[0m\u001b[0;34m\u001b[0m\u001b[0;34m\u001b[0m\u001b[0m\n\u001b[0m",
            "\u001b[0;31mTypeError\u001b[0m: Can't instantiate abstract class MobileApp with abstract methods security"
          ]
        }
      ]
    },
    {
      "cell_type": "code",
      "source": [
        "#Child Class\n",
        "class MobileApp2(BankApp):\n",
        "  def mobile_login(self):\n",
        "    print('login into mobile')\n",
        "\n",
        "  def security(self):\n",
        "    print('mobile security')"
      ],
      "metadata": {
        "id": "mIZUy_ZHYsaw"
      },
      "execution_count": 10,
      "outputs": []
    },
    {
      "cell_type": "code",
      "source": [
        "m1 = MobileApp2()"
      ],
      "metadata": {
        "id": "pF0F-AIJYvNh"
      },
      "execution_count": 11,
      "outputs": []
    },
    {
      "cell_type": "code",
      "source": [
        "m1.database()"
      ],
      "metadata": {
        "colab": {
          "base_uri": "https://localhost:8080/"
        },
        "id": "3OiCJV73RF1A",
        "outputId": "e09e9cb2-d2f2-4b86-dc30-15b0eb64da19"
      },
      "execution_count": 12,
      "outputs": [
        {
          "output_type": "stream",
          "name": "stdout",
          "text": [
            "connected to database\n"
          ]
        }
      ]
    },
    {
      "cell_type": "code",
      "source": [
        "m1.mobile_login()"
      ],
      "metadata": {
        "colab": {
          "base_uri": "https://localhost:8080/"
        },
        "id": "v6U7_8zRRTxM",
        "outputId": "01afa40a-d9ca-4749-8101-393a22ebcc62"
      },
      "execution_count": 13,
      "outputs": [
        {
          "output_type": "stream",
          "name": "stdout",
          "text": [
            "login into mobile\n"
          ]
        }
      ]
    },
    {
      "cell_type": "code",
      "source": [
        "m1.security()"
      ],
      "metadata": {
        "colab": {
          "base_uri": "https://localhost:8080/"
        },
        "id": "-InM3KtbRXAQ",
        "outputId": "f25b68bf-57bf-4a85-a746-a80fdd5b19d8"
      },
      "execution_count": 14,
      "outputs": [
        {
          "output_type": "stream",
          "name": "stdout",
          "text": [
            "mobile security\n"
          ]
        }
      ]
    }
  ]
}