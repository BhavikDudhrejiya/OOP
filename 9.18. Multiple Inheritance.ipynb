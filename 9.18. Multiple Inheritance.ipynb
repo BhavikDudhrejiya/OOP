{
 "cells": [
  {
   "cell_type": "code",
   "execution_count": 3,
   "id": "4a8f1bd1",
   "metadata": {},
   "outputs": [
    {
     "name": "stdout",
     "output_type": "stream",
     "text": [
      "I'm just a class A method\n",
      "I'm just a class B method\n",
      "Hello from class A\n"
     ]
    }
   ],
   "source": [
    "class A:\n",
    "    def class_a_method(self):\n",
    "        return 'I\\'m just a class A method'\n",
    "    \n",
    "    def hello(self):\n",
    "        return 'Hello from class A'\n",
    "    \n",
    "class B:\n",
    "    def class_b_method(self):\n",
    "        return 'I\\'m just a class B method'\n",
    "    \n",
    "    def hello(self):\n",
    "        return 'Hello from class B'\n",
    "    \n",
    "class C(A,B):\n",
    "    pass\n",
    "\n",
    "obj_c = C()\n",
    "\n",
    "print(obj_c.class_a_method())\n",
    "print(obj_c.class_b_method())\n",
    "print(obj_c.hello())"
   ]
  },
  {
   "cell_type": "code",
   "execution_count": 4,
   "id": "bd4b993e",
   "metadata": {},
   "outputs": [
    {
     "name": "stdout",
     "output_type": "stream",
     "text": [
      "Help on class C in module __main__:\n",
      "\n",
      "class C(A, B)\n",
      " |  Method resolution order:\n",
      " |      C\n",
      " |      A\n",
      " |      B\n",
      " |      builtins.object\n",
      " |  \n",
      " |  Methods inherited from A:\n",
      " |  \n",
      " |  class_a_method(self)\n",
      " |  \n",
      " |  hello(self)\n",
      " |  \n",
      " |  ----------------------------------------------------------------------\n",
      " |  Data descriptors inherited from A:\n",
      " |  \n",
      " |  __dict__\n",
      " |      dictionary for instance variables (if defined)\n",
      " |  \n",
      " |  __weakref__\n",
      " |      list of weak references to the object (if defined)\n",
      " |  \n",
      " |  ----------------------------------------------------------------------\n",
      " |  Methods inherited from B:\n",
      " |  \n",
      " |  class_b_method(self)\n",
      "\n",
      "None\n"
     ]
    }
   ],
   "source": [
    "print(help(C))"
   ]
  },
  {
   "cell_type": "code",
   "execution_count": 5,
   "id": "f0705aa6",
   "metadata": {},
   "outputs": [
    {
     "name": "stdout",
     "output_type": "stream",
     "text": [
      "I'm just a class A method\n",
      "I'm just a class B method\n",
      "Hello from class B\n"
     ]
    }
   ],
   "source": [
    "class A:\n",
    "    def class_a_method(self):\n",
    "        return 'I\\'m just a class A method'\n",
    "    \n",
    "    def hello(self):\n",
    "        return 'Hello from class A'\n",
    "    \n",
    "class B:\n",
    "    def class_b_method(self):\n",
    "        return 'I\\'m just a class B method'\n",
    "    \n",
    "    def hello(self):\n",
    "        return 'Hello from class B'\n",
    "    \n",
    "class C(B,A):\n",
    "    pass\n",
    "\n",
    "obj_c = C()\n",
    "\n",
    "print(obj_c.class_a_method())\n",
    "print(obj_c.class_b_method())\n",
    "print(obj_c.hello())"
   ]
  },
  {
   "cell_type": "code",
   "execution_count": 6,
   "id": "36efcba6",
   "metadata": {},
   "outputs": [
    {
     "name": "stdout",
     "output_type": "stream",
     "text": [
      "Help on class C in module __main__:\n",
      "\n",
      "class C(B, A)\n",
      " |  Method resolution order:\n",
      " |      C\n",
      " |      B\n",
      " |      A\n",
      " |      builtins.object\n",
      " |  \n",
      " |  Methods inherited from B:\n",
      " |  \n",
      " |  class_b_method(self)\n",
      " |  \n",
      " |  hello(self)\n",
      " |  \n",
      " |  ----------------------------------------------------------------------\n",
      " |  Data descriptors inherited from B:\n",
      " |  \n",
      " |  __dict__\n",
      " |      dictionary for instance variables (if defined)\n",
      " |  \n",
      " |  __weakref__\n",
      " |      list of weak references to the object (if defined)\n",
      " |  \n",
      " |  ----------------------------------------------------------------------\n",
      " |  Methods inherited from A:\n",
      " |  \n",
      " |  class_a_method(self)\n",
      "\n",
      "None\n"
     ]
    }
   ],
   "source": [
    "print(help(C))"
   ]
  },
  {
   "cell_type": "code",
   "execution_count": 7,
   "id": "07bd1730",
   "metadata": {},
   "outputs": [
    {
     "name": "stdout",
     "output_type": "stream",
     "text": [
      "[<class '__main__.C'>, <class '__main__.B'>, <class '__main__.A'>, <class 'object'>]\n"
     ]
    }
   ],
   "source": [
    "print(C.mro())"
   ]
  }
 ],
 "metadata": {
  "kernelspec": {
   "display_name": "Python 3",
   "language": "python",
   "name": "python3"
  },
  "language_info": {
   "codemirror_mode": {
    "name": "ipython",
    "version": 3
   },
   "file_extension": ".py",
   "mimetype": "text/x-python",
   "name": "python",
   "nbconvert_exporter": "python",
   "pygments_lexer": "ipython3",
   "version": "3.9.5"
  },
  "toc": {
   "base_numbering": 1,
   "nav_menu": {},
   "number_sections": true,
   "sideBar": true,
   "skip_h1_title": false,
   "title_cell": "Table of Contents",
   "title_sidebar": "Contents",
   "toc_cell": false,
   "toc_position": {},
   "toc_section_display": true,
   "toc_window_display": false
  }
 },
 "nbformat": 4,
 "nbformat_minor": 5
}
