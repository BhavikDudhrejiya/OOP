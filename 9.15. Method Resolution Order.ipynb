{
 "cells": [
  {
   "cell_type": "code",
   "execution_count": 5,
   "id": "630b0ccc",
   "metadata": {},
   "outputs": [
    {
     "name": "stdout",
     "output_type": "stream",
     "text": [
      "Nokia 1100 1000\n",
      "Redmi Note 10 Pro Max 18999 6GB 128GB 108MP\n",
      "Realmi Narzo 30 Pro 15999 6GB 64GB 48MP\n",
      "Mi 10i 5G 21999 6GB 64GB 108MP 48MP\n"
     ]
    }
   ],
   "source": [
    "class Phone:\n",
    "    def __init__(self, brand, model_name, price):\n",
    "        self.brand = brand\n",
    "        self.model_name = model_name\n",
    "        self.price = price\n",
    "\n",
    "class Smart_Phone(Phone):\n",
    "    def __init__(self, brand, model_name, price, ram, internal_memory, rear_camera):\n",
    "        super().__init__(brand, model_name, price)\n",
    "        self.ram = ram\n",
    "        self.internal_memory = internal_memory\n",
    "        self.rear_camera = rear_camera\n",
    "        \n",
    "class Flagship_Phone(Smart_Phone):\n",
    "    def __init__(self, brand, model_name, price, ram, internal_memory, rear_camera, front_camera):\n",
    "        super().__init__(brand, model_name, price, ram, internal_memory, rear_camera)\n",
    "        self.front_camera = front_camera\n",
    "        \n",
    "p1 = Phone('Nokia', '1100', 1000)\n",
    "p2 = Smart_Phone('Redmi Note', '10 Pro Max', 18999, '6GB', '128GB', '108MP')\n",
    "p3 = Smart_Phone('Realmi', 'Narzo 30 Pro', 15999, '6GB', '64GB', '48MP')\n",
    "p4 = Flagship_Phone('Mi', '10i 5G', 21999, '6GB', '64GB','108MP','48MP')\n",
    "\n",
    "print(p1.brand, p1.model_name, p1.price)\n",
    "print(p2.brand, p2.model_name, p2.price, p2.ram, p2.internal_memory, p2.rear_camera)\n",
    "print(p3.brand, p3.model_name, p3.price, p3.ram, p3.internal_memory, p3.rear_camera)\n",
    "print(p4.brand, p4.model_name, p4.price, p4.ram, p4.internal_memory, p4.rear_camera, p4.front_camera)"
   ]
  },
  {
   "cell_type": "code",
   "execution_count": 6,
   "id": "1d9df2a2",
   "metadata": {},
   "outputs": [
    {
     "name": "stdout",
     "output_type": "stream",
     "text": [
      "Help on class Flagship_Phone in module __main__:\n",
      "\n",
      "class Flagship_Phone(Smart_Phone)\n",
      " |  Flagship_Phone(brand, model_name, price, ram, internal_memory, rear_camera, front_camera)\n",
      " |  \n",
      " |  Method resolution order:\n",
      " |      Flagship_Phone\n",
      " |      Smart_Phone\n",
      " |      Phone\n",
      " |      builtins.object\n",
      " |  \n",
      " |  Methods defined here:\n",
      " |  \n",
      " |  __init__(self, brand, model_name, price, ram, internal_memory, rear_camera, front_camera)\n",
      " |      Initialize self.  See help(type(self)) for accurate signature.\n",
      " |  \n",
      " |  ----------------------------------------------------------------------\n",
      " |  Data descriptors inherited from Phone:\n",
      " |  \n",
      " |  __dict__\n",
      " |      dictionary for instance variables (if defined)\n",
      " |  \n",
      " |  __weakref__\n",
      " |      list of weak references to the object (if defined)\n",
      "\n",
      "None\n"
     ]
    }
   ],
   "source": [
    "print(help(Flagship_Phone))"
   ]
  },
  {
   "cell_type": "code",
   "execution_count": 7,
   "id": "29fb814d",
   "metadata": {},
   "outputs": [
    {
     "name": "stdout",
     "output_type": "stream",
     "text": [
      "Help on class Smart_Phone in module __main__:\n",
      "\n",
      "class Smart_Phone(Phone)\n",
      " |  Smart_Phone(brand, model_name, price, ram, internal_memory, rear_camera)\n",
      " |  \n",
      " |  Method resolution order:\n",
      " |      Smart_Phone\n",
      " |      Phone\n",
      " |      builtins.object\n",
      " |  \n",
      " |  Methods defined here:\n",
      " |  \n",
      " |  __init__(self, brand, model_name, price, ram, internal_memory, rear_camera)\n",
      " |      Initialize self.  See help(type(self)) for accurate signature.\n",
      " |  \n",
      " |  ----------------------------------------------------------------------\n",
      " |  Data descriptors inherited from Phone:\n",
      " |  \n",
      " |  __dict__\n",
      " |      dictionary for instance variables (if defined)\n",
      " |  \n",
      " |  __weakref__\n",
      " |      list of weak references to the object (if defined)\n",
      "\n",
      "None\n"
     ]
    }
   ],
   "source": [
    "print(help(Smart_Phone))"
   ]
  },
  {
   "cell_type": "code",
   "execution_count": 8,
   "id": "3ef8de81",
   "metadata": {},
   "outputs": [
    {
     "name": "stdout",
     "output_type": "stream",
     "text": [
      "Help on class Phone in module __main__:\n",
      "\n",
      "class Phone(builtins.object)\n",
      " |  Phone(brand, model_name, price)\n",
      " |  \n",
      " |  Methods defined here:\n",
      " |  \n",
      " |  __init__(self, brand, model_name, price)\n",
      " |      Initialize self.  See help(type(self)) for accurate signature.\n",
      " |  \n",
      " |  ----------------------------------------------------------------------\n",
      " |  Data descriptors defined here:\n",
      " |  \n",
      " |  __dict__\n",
      " |      dictionary for instance variables (if defined)\n",
      " |  \n",
      " |  __weakref__\n",
      " |      list of weak references to the object (if defined)\n",
      "\n",
      "None\n"
     ]
    }
   ],
   "source": [
    "print(help(Phone))"
   ]
  },
  {
   "cell_type": "code",
   "execution_count": null,
   "id": "464251e8",
   "metadata": {},
   "outputs": [],
   "source": []
  }
 ],
 "metadata": {
  "kernelspec": {
   "display_name": "Python 3",
   "language": "python",
   "name": "python3"
  },
  "language_info": {
   "codemirror_mode": {
    "name": "ipython",
    "version": 3
   },
   "file_extension": ".py",
   "mimetype": "text/x-python",
   "name": "python",
   "nbconvert_exporter": "python",
   "pygments_lexer": "ipython3",
   "version": "3.9.5"
  },
  "toc": {
   "base_numbering": 1,
   "nav_menu": {},
   "number_sections": true,
   "sideBar": true,
   "skip_h1_title": false,
   "title_cell": "Table of Contents",
   "title_sidebar": "Contents",
   "toc_cell": false,
   "toc_position": {},
   "toc_section_display": true,
   "toc_window_display": false
  }
 },
 "nbformat": 4,
 "nbformat_minor": 5
}
